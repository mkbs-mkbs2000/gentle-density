{
 "cells": [
  {
   "cell_type": "markdown",
   "id": "be695149-94bc-4a2c-96b6-8f38eae92dc1",
   "metadata": {},
   "source": [
    "Querying/filtering of the Stats Can building permits data\n",
    "\n",
    "full table downloaded from here:\n",
    "https://www150.statcan.gc.ca/t1/tbl1/en/tv.action?pid=3410028501\n",
    "\n",
    "over 7gb or so unzipped"
   ]
  },
  {
   "cell_type": "code",
   "execution_count": 1,
   "id": "bf104403-dceb-4ec3-b730-ee0709e4031e",
   "metadata": {},
   "outputs": [],
   "source": [
    "import pandas as pd"
   ]
  },
  {
   "cell_type": "code",
   "execution_count": 2,
   "id": "81a58d1d-3a36-4ac0-b508-b06ed0042f94",
   "metadata": {},
   "outputs": [],
   "source": [
    "filename = \"input-data/34100285.csv\"\n",
    "\n",
    "df = []\n",
    "\n",
    "chunksize = 10 ** 6\n",
    "with pd.read_csv(filename, chunksize=chunksize) as reader:\n",
    "    for chunk in reader:\n",
    "        filtered_chunk = chunk[chunk[\"Seasonal adjustment, value type\"] == \"Unadjusted, current\"]\n",
    "        filtered_chunk = filtered_chunk[\n",
    "            filtered_chunk[\"Variables\"] == \"Number of dwelling-units created\"\n",
    "        ]\n",
    "        filtered_chunk = filtered_chunk[\n",
    "            filtered_chunk[\"Type of building\"] == \"Total residential and non-residential\"\n",
    "        ]\n",
    "        filtered_chunk = filtered_chunk[\n",
    "            (filtered_chunk[\"Type of work\"] == \"New construction\") | \n",
    "            (filtered_chunk[\"Type of work\"] == \"Conversion from single to multiple dwelling\") | \n",
    "            (filtered_chunk[\"Type of work\"] == \"Conversion from multiple to multiple dwelling\") | \n",
    "            (filtered_chunk[\"Type of work\"] == \"Conversion from non-residential to residential building\")\n",
    "        ]\n",
    "        if len(filtered_chunk) > 0:\n",
    "            df.append(filtered_chunk)"
   ]
  },
  {
   "cell_type": "code",
   "execution_count": 3,
   "id": "51b97fa3-2806-4a4c-9eb6-4908200eb04d",
   "metadata": {},
   "outputs": [],
   "source": [
    "df = pd.concat(df, ignore_index=True)"
   ]
  },
  {
   "cell_type": "code",
   "execution_count": 4,
   "id": "2f09b7fe-655e-4ebc-9adb-a6e9505000c1",
   "metadata": {},
   "outputs": [],
   "source": [
    "df = df[[\"REF_DATE\",\"GEO\", \"Type of work\",\"VALUE\"]]"
   ]
  },
  {
   "cell_type": "code",
   "execution_count": 5,
   "id": "7c9c67f6-2d67-4820-a3ae-eba85934f81b",
   "metadata": {},
   "outputs": [],
   "source": [
    "# df[df[\"GEO\"] == \"Toronto, Ontario\"].to_csv(\"input-data/toronto-subset.csv\")"
   ]
  },
  {
   "cell_type": "code",
   "execution_count": 6,
   "id": "9085f673-1b5c-41e8-9ea5-6cac46e9f26c",
   "metadata": {},
   "outputs": [],
   "source": [
    "df['Type'] = df['Type of work'].replace(\n",
    "    {\n",
    "        'New construction': 'new',\n",
    "        'Conversion from single to multiple dwelling': 's-to-m',\n",
    "        'Conversion from multiple to multiple dwelling': 'm-to-m',\n",
    "        'Conversion from non-residential to residential building': 'n-to-r'\n",
    "    }\n",
    ")"
   ]
  },
  {
   "cell_type": "code",
   "execution_count": 7,
   "id": "e59c12c2-1b17-401a-ab5e-845578661055",
   "metadata": {},
   "outputs": [],
   "source": [
    "df.to_csv(\"conversions-canada-2018-to-2024.csv\")"
   ]
  }
 ],
 "metadata": {
  "kernelspec": {
   "display_name": "Python 3 (ipykernel)",
   "language": "python",
   "name": "python3"
  },
  "language_info": {
   "codemirror_mode": {
    "name": "ipython",
    "version": 3
   },
   "file_extension": ".py",
   "mimetype": "text/x-python",
   "name": "python",
   "nbconvert_exporter": "python",
   "pygments_lexer": "ipython3",
   "version": "3.10.5"
  }
 },
 "nbformat": 4,
 "nbformat_minor": 5
}
