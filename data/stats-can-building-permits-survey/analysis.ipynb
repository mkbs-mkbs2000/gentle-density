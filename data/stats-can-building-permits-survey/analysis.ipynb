{
 "cells": [
  {
   "cell_type": "markdown",
   "id": "be695149-94bc-4a2c-96b6-8f38eae92dc1",
   "metadata": {},
   "source": [
    "Querying/filtering of the Stats Can building permits data\n",
    "\n",
    "full table downloaded from here:\n",
    "https://www150.statcan.gc.ca/t1/tbl1/en/tv.action?pid=3410028501\n",
    "\n",
    "over 7gb or so unzipped"
   ]
  },
  {
   "cell_type": "code",
   "execution_count": 1,
   "id": "bf104403-dceb-4ec3-b730-ee0709e4031e",
   "metadata": {},
   "outputs": [],
   "source": [
    "import pandas as pd"
   ]
  },
  {
   "cell_type": "code",
   "execution_count": 2,
   "id": "81a58d1d-3a36-4ac0-b508-b06ed0042f94",
   "metadata": {},
   "outputs": [],
   "source": [
    "filename = \"input-data/34100285.csv\"\n",
    "\n",
    "df = []\n",
    "\n",
    "chunksize = 10 ** 6\n",
    "with pd.read_csv(filename, chunksize=chunksize) as reader:\n",
    "    for chunk in reader:\n",
    "        filtered_chunk = chunk[chunk[\"Seasonal adjustment, value type\"] == \"Unadjusted, current\"]\n",
    "        filtered_chunk = filtered_chunk[\n",
    "            filtered_chunk[\"Variables\"] == \"Number of dwelling-units created\"\n",
    "        ]\n",
    "        filtered_chunk = filtered_chunk[\n",
    "            filtered_chunk[\"Type of building\"] == \"Total residential and non-residential\"\n",
    "        ]\n",
    "        filtered_chunk = filtered_chunk[\n",
    "            (filtered_chunk[\"Type of work\"] == \"New construction\") | \n",
    "            (filtered_chunk[\"Type of work\"] == \"Conversion from single to multiple dwelling\") | \n",
    "            (filtered_chunk[\"Type of work\"] == \"Conversion from multiple to multiple dwelling\") | \n",
    "            (filtered_chunk[\"Type of work\"] == \"Conversion from non-residential to residential building\")\n",
    "        ]\n",
    "        if len(filtered_chunk) > 0:\n",
    "            df.append(filtered_chunk)"
   ]
  },
  {
   "cell_type": "code",
   "execution_count": 3,
   "id": "51b97fa3-2806-4a4c-9eb6-4908200eb04d",
   "metadata": {},
   "outputs": [],
   "source": [
    "df = pd.concat(df, ignore_index=True)"
   ]
  },
  {
   "cell_type": "code",
   "execution_count": 4,
   "id": "cefb63ad-d208-4157-a0f0-a40ed47eca12",
   "metadata": {},
   "outputs": [],
   "source": [
    "df['Type'] = df['Type of work'].replace(\n",
    "    {\n",
    "        'New construction': 'new',\n",
    "        'Conversion from single to multiple dwelling': 's-to-m',\n",
    "        'Conversion from multiple to multiple dwelling': 'm-to-m',\n",
    "        'Conversion from non-residential to residential building': 'n-to-r'\n",
    "    }\n",
    ")"
   ]
  },
  {
   "cell_type": "code",
   "execution_count": 5,
   "id": "2f09b7fe-655e-4ebc-9adb-a6e9505000c1",
   "metadata": {},
   "outputs": [],
   "source": [
    "df = df[[\"REF_DATE\",\"GEO\", \"Type\",\"VALUE\"]]"
   ]
  },
  {
   "cell_type": "code",
   "execution_count": 6,
   "id": "7c9c67f6-2d67-4820-a3ae-eba85934f81b",
   "metadata": {},
   "outputs": [],
   "source": [
    "# df[df[\"GEO\"] == \"Toronto, Ontario\"].to_csv(\"input-data/toronto-subset.csv\")"
   ]
  },
  {
   "cell_type": "code",
   "execution_count": 7,
   "id": "e59c12c2-1b17-401a-ab5e-845578661055",
   "metadata": {},
   "outputs": [],
   "source": [
    "df.to_csv(\"conversions-canada-2018-to-2024.csv\", index=False)"
   ]
  },
  {
   "cell_type": "code",
   "execution_count": 8,
   "id": "cb8f0079-0668-42fd-abb8-dd961181b23f",
   "metadata": {},
   "outputs": [
    {
     "data": {
      "text/html": [
       "<div>\n",
       "<style scoped>\n",
       "    .dataframe tbody tr th:only-of-type {\n",
       "        vertical-align: middle;\n",
       "    }\n",
       "\n",
       "    .dataframe tbody tr th {\n",
       "        vertical-align: top;\n",
       "    }\n",
       "\n",
       "    .dataframe thead th {\n",
       "        text-align: right;\n",
       "    }\n",
       "</style>\n",
       "<table border=\"1\" class=\"dataframe\">\n",
       "  <thead>\n",
       "    <tr style=\"text-align: right;\">\n",
       "      <th></th>\n",
       "      <th>REF_DATE</th>\n",
       "      <th>GEO</th>\n",
       "      <th>Type</th>\n",
       "      <th>VALUE</th>\n",
       "    </tr>\n",
       "  </thead>\n",
       "  <tbody>\n",
       "    <tr>\n",
       "      <th>0</th>\n",
       "      <td>2018-01</td>\n",
       "      <td>Canada</td>\n",
       "      <td>new</td>\n",
       "      <td>13498.0</td>\n",
       "    </tr>\n",
       "    <tr>\n",
       "      <th>1</th>\n",
       "      <td>2018-01</td>\n",
       "      <td>Canada</td>\n",
       "      <td>s-to-m</td>\n",
       "      <td>475.0</td>\n",
       "    </tr>\n",
       "    <tr>\n",
       "      <th>2</th>\n",
       "      <td>2018-01</td>\n",
       "      <td>Canada</td>\n",
       "      <td>m-to-m</td>\n",
       "      <td>384.0</td>\n",
       "    </tr>\n",
       "    <tr>\n",
       "      <th>3</th>\n",
       "      <td>2018-01</td>\n",
       "      <td>Canada</td>\n",
       "      <td>n-to-r</td>\n",
       "      <td>143.0</td>\n",
       "    </tr>\n",
       "    <tr>\n",
       "      <th>4</th>\n",
       "      <td>2018-01</td>\n",
       "      <td>Newfoundland and Labrador</td>\n",
       "      <td>new</td>\n",
       "      <td>23.0</td>\n",
       "    </tr>\n",
       "    <tr>\n",
       "      <th>...</th>\n",
       "      <td>...</td>\n",
       "      <td>...</td>\n",
       "      <td>...</td>\n",
       "      <td>...</td>\n",
       "    </tr>\n",
       "    <tr>\n",
       "      <th>20059</th>\n",
       "      <td>2024-04</td>\n",
       "      <td>Vancouver, British Columbia</td>\n",
       "      <td>n-to-r</td>\n",
       "      <td>4.0</td>\n",
       "    </tr>\n",
       "    <tr>\n",
       "      <th>20060</th>\n",
       "      <td>2024-04</td>\n",
       "      <td>Victoria, British Columbia</td>\n",
       "      <td>new</td>\n",
       "      <td>727.0</td>\n",
       "    </tr>\n",
       "    <tr>\n",
       "      <th>20061</th>\n",
       "      <td>2024-04</td>\n",
       "      <td>Victoria, British Columbia</td>\n",
       "      <td>s-to-m</td>\n",
       "      <td>16.0</td>\n",
       "    </tr>\n",
       "    <tr>\n",
       "      <th>20062</th>\n",
       "      <td>2024-04</td>\n",
       "      <td>Victoria, British Columbia</td>\n",
       "      <td>m-to-m</td>\n",
       "      <td>0.0</td>\n",
       "    </tr>\n",
       "    <tr>\n",
       "      <th>20063</th>\n",
       "      <td>2024-04</td>\n",
       "      <td>Victoria, British Columbia</td>\n",
       "      <td>n-to-r</td>\n",
       "      <td>0.0</td>\n",
       "    </tr>\n",
       "  </tbody>\n",
       "</table>\n",
       "<p>20064 rows × 4 columns</p>\n",
       "</div>"
      ],
      "text/plain": [
       "      REF_DATE                          GEO    Type    VALUE\n",
       "0      2018-01                       Canada     new  13498.0\n",
       "1      2018-01                       Canada  s-to-m    475.0\n",
       "2      2018-01                       Canada  m-to-m    384.0\n",
       "3      2018-01                       Canada  n-to-r    143.0\n",
       "4      2018-01    Newfoundland and Labrador     new     23.0\n",
       "...        ...                          ...     ...      ...\n",
       "20059  2024-04  Vancouver, British Columbia  n-to-r      4.0\n",
       "20060  2024-04   Victoria, British Columbia     new    727.0\n",
       "20061  2024-04   Victoria, British Columbia  s-to-m     16.0\n",
       "20062  2024-04   Victoria, British Columbia  m-to-m      0.0\n",
       "20063  2024-04   Victoria, British Columbia  n-to-r      0.0\n",
       "\n",
       "[20064 rows x 4 columns]"
      ]
     },
     "execution_count": 8,
     "metadata": {},
     "output_type": "execute_result"
    }
   ],
   "source": [
    "df"
   ]
  }
 ],
 "metadata": {
  "kernelspec": {
   "display_name": "Python 3 (ipykernel)",
   "language": "python",
   "name": "python3"
  },
  "language_info": {
   "codemirror_mode": {
    "name": "ipython",
    "version": 3
   },
   "file_extension": ".py",
   "mimetype": "text/x-python",
   "name": "python",
   "nbconvert_exporter": "python",
   "pygments_lexer": "ipython3",
   "version": "3.10.5"
  }
 },
 "nbformat": 4,
 "nbformat_minor": 5
}
